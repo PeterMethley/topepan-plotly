{
 "cells": [
  {
   "cell_type": "code",
   "execution_count": 1,
   "metadata": {},
   "outputs": [],
   "source": [
    "import pandas as pd\n",
    "import numpy as np\n",
    "import matplotlib.pyplot as plt"
   ]
  },
  {
   "cell_type": "code",
   "execution_count": 2,
   "metadata": {},
   "outputs": [
    {
     "name": "stdout",
     "output_type": "stream",
     "text": [
      "['X', 'Y', 'Z', 'H+', 'Al+++', 'CO2(aq)', 'NH3(aq)', 'Mg++', 'Ca++', 'Ca44++', 'Fe++', 'Fe+++', 'Cl-', 'K+', 'H2S(aq)', 'H2S34(aq)', 'SO4--', 'S34O4--', 'Na+', 'SiO2(aq)', 'O2(aq)', 'B(OH)3(aq)', 'HPO4--', 'NO3-', 'Methane(aq)', 'Formaldehyde', 'C5H7O2NSO4', 'HNO3(aq)', 'Al(OH)2+', 'Al(SO4)2-', 'Al(S34O4)2-', 'AlO2-', 'AlOH++', 'HCO3-', 'CO3--', 'CaCl+', 'Ca44Cl+', 'CaCl2(aq)', 'Ca44Cl2(aq)', 'CaOH+', 'Ca44OH+', 'CaSO4(aq)', 'CaS34O4(aq)', 'Ca44SO4(aq)', 'Ca44S34O4(aq)', 'Fe(OH)2(aq)', 'Fe(OH)3-', 'Fe(OH)4--', 'FeCl+', 'FeCl2(aq)', 'FeCl4--', 'FeOH+', 'FeSO4(aq)', 'FeS34O4(aq)', 'OH-', 'HS-', 'HS34-', 'H2PO4-', 'H3PO4(aq)', 'HAlO2(aq)', 'HSO4-', 'HS34O4-', 'HSiO3-', 'KCl(aq)', 'KHSO4(aq)', 'KHS34O4(aq)', 'KOH(aq)', 'KSO4-', 'KS34O4-', 'NaAlO2(aq)', 'NaCl(aq)', 'NaHSiO3(aq)', 'NaOH(aq)', 'NaSO4-', 'NaS34O4-', 'NH4+', 'H2(aq)', 'CaHPO4(aq)', 'Ca44HPO4(aq)', 'CaPO4-', 'Ca44PO4-', 'FeCO3(aq)', 'FeH2PO4+', 'FeHPO4(aq)', 'FePO4-', 'KHPO4-', 'PO4---', 'S--', 'S34--', 'BO2-', 'MgB(OH)4+']\n"
     ]
    }
   ],
   "source": [
    "with open('conc16.tec') as f:\n",
    "    f.readline()\n",
    "    headerLine = f.readline()\n",
    "    columnHeaders = headerLine.split()\n",
    "    columnHeaders = columnHeaders[2:]\n",
    "    columnHeaders = [i.replace('\"', '') for i in columnHeaders]\n",
    "    print(columnHeaders)"
   ]
  },
  {
   "cell_type": "code",
   "execution_count": 3,
   "metadata": {},
   "outputs": [],
   "source": [
    "df = pd.read_csv('conc16.tec', sep=' ', skipinitialspace=True, skiprows=[0,1,2], names=columnHeaders)"
   ]
  },
  {
   "cell_type": "code",
   "execution_count": 7,
   "metadata": {},
   "outputs": [],
   "source": [
    "z = df.pivot('X', 'Y', 'SO4--')"
   ]
  },
  {
   "cell_type": "code",
   "execution_count": 8,
   "metadata": {},
   "outputs": [],
   "source": [
    " x, y= np.meshgrid(z.columns.values, z.index.values)"
   ]
  },
  {
   "cell_type": "code",
   "execution_count": 9,
   "metadata": {},
   "outputs": [
    {
     "name": "stdout",
     "output_type": "stream",
     "text": [
      "[[0.5 1.5 2.5 3.5 4.5 5.5 6.5 7.5 8.5 9.5]\n",
      " [0.5 1.5 2.5 3.5 4.5 5.5 6.5 7.5 8.5 9.5]\n",
      " [0.5 1.5 2.5 3.5 4.5 5.5 6.5 7.5 8.5 9.5]\n",
      " [0.5 1.5 2.5 3.5 4.5 5.5 6.5 7.5 8.5 9.5]\n",
      " [0.5 1.5 2.5 3.5 4.5 5.5 6.5 7.5 8.5 9.5]\n",
      " [0.5 1.5 2.5 3.5 4.5 5.5 6.5 7.5 8.5 9.5]\n",
      " [0.5 1.5 2.5 3.5 4.5 5.5 6.5 7.5 8.5 9.5]\n",
      " [0.5 1.5 2.5 3.5 4.5 5.5 6.5 7.5 8.5 9.5]\n",
      " [0.5 1.5 2.5 3.5 4.5 5.5 6.5 7.5 8.5 9.5]\n",
      " [0.5 1.5 2.5 3.5 4.5 5.5 6.5 7.5 8.5 9.5]\n",
      " [0.5 1.5 2.5 3.5 4.5 5.5 6.5 7.5 8.5 9.5]\n",
      " [0.5 1.5 2.5 3.5 4.5 5.5 6.5 7.5 8.5 9.5]\n",
      " [0.5 1.5 2.5 3.5 4.5 5.5 6.5 7.5 8.5 9.5]\n",
      " [0.5 1.5 2.5 3.5 4.5 5.5 6.5 7.5 8.5 9.5]\n",
      " [0.5 1.5 2.5 3.5 4.5 5.5 6.5 7.5 8.5 9.5]\n",
      " [0.5 1.5 2.5 3.5 4.5 5.5 6.5 7.5 8.5 9.5]\n",
      " [0.5 1.5 2.5 3.5 4.5 5.5 6.5 7.5 8.5 9.5]\n",
      " [0.5 1.5 2.5 3.5 4.5 5.5 6.5 7.5 8.5 9.5]\n",
      " [0.5 1.5 2.5 3.5 4.5 5.5 6.5 7.5 8.5 9.5]\n",
      " [0.5 1.5 2.5 3.5 4.5 5.5 6.5 7.5 8.5 9.5]\n",
      " [0.5 1.5 2.5 3.5 4.5 5.5 6.5 7.5 8.5 9.5]\n",
      " [0.5 1.5 2.5 3.5 4.5 5.5 6.5 7.5 8.5 9.5]\n",
      " [0.5 1.5 2.5 3.5 4.5 5.5 6.5 7.5 8.5 9.5]\n",
      " [0.5 1.5 2.5 3.5 4.5 5.5 6.5 7.5 8.5 9.5]\n",
      " [0.5 1.5 2.5 3.5 4.5 5.5 6.5 7.5 8.5 9.5]\n",
      " [0.5 1.5 2.5 3.5 4.5 5.5 6.5 7.5 8.5 9.5]\n",
      " [0.5 1.5 2.5 3.5 4.5 5.5 6.5 7.5 8.5 9.5]\n",
      " [0.5 1.5 2.5 3.5 4.5 5.5 6.5 7.5 8.5 9.5]\n",
      " [0.5 1.5 2.5 3.5 4.5 5.5 6.5 7.5 8.5 9.5]\n",
      " [0.5 1.5 2.5 3.5 4.5 5.5 6.5 7.5 8.5 9.5]]\n"
     ]
    }
   ],
   "source": [
    "print(x)"
   ]
  },
  {
   "cell_type": "code",
   "execution_count": null,
   "metadata": {},
   "outputs": [],
   "source": [
    "plt.contourf(x, y, z.values, cmap='RdGy')"
   ]
  },
  {
   "cell_type": "code",
   "execution_count": null,
   "metadata": {},
   "outputs": [],
   "source": []
  }
 ],
 "metadata": {
  "kernelspec": {
   "display_name": "Python 3",
   "language": "python",
   "name": "python3"
  },
  "language_info": {
   "codemirror_mode": {
    "name": "ipython",
    "version": 3
   },
   "file_extension": ".py",
   "mimetype": "text/x-python",
   "name": "python",
   "nbconvert_exporter": "python",
   "pygments_lexer": "ipython3",
   "version": "3.8.2"
  }
 },
 "nbformat": 4,
 "nbformat_minor": 4
}

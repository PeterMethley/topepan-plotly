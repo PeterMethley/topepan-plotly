{
 "cells": [
  {
   "cell_type": "code",
   "execution_count": 55,
   "id": "biblical-closer",
   "metadata": {},
   "outputs": [],
   "source": [
    "import numpy as np\n",
    "from ipywidgets import widgets"
   ]
  },
  {
   "cell_type": "code",
   "execution_count": 56,
   "id": "elect-today",
   "metadata": {},
   "outputs": [],
   "source": [
    "# Initialise parameters\n",
    "R_gas = 8.31e-3 # kJ K^-1 mol^-1\n",
    "clg = 1/np.log10(np.e) # Change from log10 to ln.\n",
    "\n",
    "T_k = 298.15   # Kelvin"
   ]
  },
  {
   "cell_type": "code",
   "execution_count": 58,
   "id": "western-supply",
   "metadata": {},
   "outputs": [
    {
     "data": {
      "application/vnd.jupyter.widget-view+json": {
       "model_id": "85d49c910a1849d9a25eda1c107aceb9",
       "version_major": 2,
       "version_minor": 0
      },
      "text/plain": [
       "interactive(children=(FloatSlider(value=10.0, description='keq', max=20.0, min=1.0, step=0.2), FloatSlider(val…"
      ]
     },
     "metadata": {},
     "output_type": "display_data"
    },
    {
     "data": {
      "text/plain": [
       "<function __main__.calc_Q(keq, bq, T_k)>"
      ]
     },
     "execution_count": 58,
     "metadata": {},
     "output_type": "execute_result"
    }
   ],
   "source": [
    "keq = widgets.FloatSlider(value=10, min=1, max=20, step=0.2)  # log10(units)\n",
    "bq = widgets.FloatSlider(value=-7, min=-15, max=0, step=0.02) # kJ mol^-1\n",
    "\n",
    "# Calculate critical value of Q that prohibits reaction according to Jin & Bethke\n",
    "# Remember to convert K_eq to natural log\n",
    "\n",
    "def calc_Q(keq, bq, T_k):\n",
    "    Q = (keq * clg) + (bq / (R_gas * T_k))\n",
    "    display(f'Q = {Q}')\n",
    "\n",
    "widgets.interact(calc_Q, keq=keq, bq=bq, T_k=widgets.fixed(T_k))"
   ]
  },
  {
   "cell_type": "code",
   "execution_count": null,
   "id": "rubber-automation",
   "metadata": {},
   "outputs": [],
   "source": []
  }
 ],
 "metadata": {
  "kernelspec": {
   "display_name": "Python 3",
   "language": "python",
   "name": "python3"
  },
  "language_info": {
   "codemirror_mode": {
    "name": "ipython",
    "version": 3
   },
   "file_extension": ".py",
   "mimetype": "text/x-python",
   "name": "python",
   "nbconvert_exporter": "python",
   "pygments_lexer": "ipython3",
   "version": "3.8.12"
  }
 },
 "nbformat": 4,
 "nbformat_minor": 5
}

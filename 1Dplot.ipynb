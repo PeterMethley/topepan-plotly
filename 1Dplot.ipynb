{
 "cells": [
  {
   "cell_type": "code",
   "execution_count": 4,
   "metadata": {},
   "outputs": [],
   "source": [
    "import numpy as np\n",
    "import pandas as pd\n",
    "from ipywidgets import widgets\n",
    "from ipywidgets.widgets import fixed\n",
    "from plotly_default import go\n",
    "from TecplotTools import read_tecplot, data_cats, plot_var_range, plot_bounds"
   ]
  },
  {
   "cell_type": "code",
   "execution_count": 5,
   "metadata": {},
   "outputs": [],
   "source": [
    "catList, max_time = data_cats(r\"D:/Peter/Code/CrunchTope/CS_Link\")"
   ]
  },
  {
   "cell_type": "code",
   "execution_count": 6,
   "metadata": {},
   "outputs": [
    {
     "data": {
      "application/vnd.jupyter.widget-view+json": {
       "model_id": "30ebf255dddb41aca061c580b9a4240f",
       "version_major": 2,
       "version_minor": 0
      },
      "text/plain": [
       "interactive(children=(IntSlider(value=1, description='time', max=1, min=1), ToggleButtons(description='file_ca…"
      ]
     },
     "metadata": {},
     "output_type": "display_data"
    },
    {
     "data": {
      "application/vnd.jupyter.widget-view+json": {
       "model_id": "a3ee656a344e43448d72865227aaad9e",
       "version_major": 2,
       "version_minor": 0
      },
      "text/plain": [
       "FigureWidget({\n",
       "    'data': [{'type': 'scatter',\n",
       "              'uid': '8f247dc2-95eb-4004-8991-fd8bce326a1e',\n",
       " …"
      ]
     },
     "metadata": {},
     "output_type": "display_data"
    }
   ],
   "source": [
    "file_cat = widgets.ToggleButtons(\n",
    "    options=catList,\n",
    "    description='',\n",
    "    disabled=False,\n",
    "    button_style='')\n",
    "\n",
    "time = widgets.IntSlider(value=1,\n",
    "    min=1,\n",
    "    max=max_time,\n",
    "    step=1)\n",
    "\n",
    "plot_var = widgets.Dropdown(options=(read_tecplot(file_cat.value, time.value)[1])[3:])\n",
    "\n",
    "def initialise1D(file_cat):\n",
    "    df, column_headers = read_tecplot(file_cat, 1)\n",
    "    fig = go.FigureWidget()\n",
    "    fig.add_trace(go.Scatter(y=df[\"X\"], x=np.zeros_like(df[\"X\"])))\n",
    "    line = fig.select_traces().__next__()\n",
    "    fig.update_layout(\n",
    "        yaxis=dict(\n",
    "            autorange=\"reversed\", rangemode=\"tozero\", title=\"Depth, <i>z</i> (steps)\"\n",
    "        ),\n",
    "        hovermode=\"y\",\n",
    "        width=600,\n",
    "        height=700,\n",
    "    )\n",
    "    return fig, line\n",
    "\n",
    "def updateplot_vars(*args):\n",
    "    plot_varList = read_tecplot(file_cat.value, time.value)[1]\n",
    "    plot_var.options = plot_varList[3:]\n",
    "\n",
    "def update_plot(time, file_cat, plot_var):\n",
    "    df, column_headers = read_tecplot(file_cat, time)\n",
    "        \n",
    "    lower, upper =  plot_var_range(max_time, file_cat, plot_var)\n",
    "    lower, upper = plot_bounds(lower, upper)\n",
    "    \n",
    "    with fig.batch_update():\n",
    "        line.x = df[plot_var]\n",
    "        pref_str = ''\n",
    "        \n",
    "        fig.update_layout(xaxis_range = [lower, upper],\n",
    "                        xaxis_title = f'{pref_str} {file_cat} {plot_var}')\n",
    "\n",
    "file_cat.observe(updateplot_vars, 'value')\n",
    "\n",
    "fig, line = initialise1D('totcon')\n",
    "\n",
    "widgets.interact(update_plot, file_cat=file_cat, time=time, plot_var=plot_var, max_time=fixed(max_time))\n",
    "fig"
   ]
  }
 ],
 "metadata": {
  "interpreter": {
   "hash": "b0183a80699cac4c875958a2083e9fcb6684c165311c5ab0a843845ade345829"
  },
  "kernelspec": {
   "display_name": "Python 3.10.4 ('Carb310')",
   "language": "python",
   "name": "python3"
  },
  "language_info": {
   "codemirror_mode": {
    "name": "ipython",
    "version": 3
   },
   "file_extension": ".py",
   "mimetype": "text/x-python",
   "name": "python",
   "nbconvert_exporter": "python",
   "pygments_lexer": "ipython3",
   "version": "3.10.4"
  }
 },
 "nbformat": 4,
 "nbformat_minor": 4
}
